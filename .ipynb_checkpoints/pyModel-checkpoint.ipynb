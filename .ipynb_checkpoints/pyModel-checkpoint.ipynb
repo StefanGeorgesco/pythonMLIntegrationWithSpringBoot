{
 "cells": [
  {
   "cell_type": "code",
   "execution_count": 1,
   "id": "bda72709-d790-4e14-ad76-c11686534b4b",
   "metadata": {},
   "outputs": [],
   "source": [
    "import numpy as np\n",
    "from sklearn.linear_model import LinearRegression\n",
    "import joblib"
   ]
  },
  {
   "cell_type": "code",
   "execution_count": 4,
   "id": "b55e6ad5-4cad-465b-adc0-d4431daf6192",
   "metadata": {},
   "outputs": [],
   "source": [
    "# Train a simple model just predict x+1\n",
    "X = np.array([[1], [2], [3], [4], [5]])  # features\n",
    "y = np.array([2, 3, 4, 5, 6])             # target: y = x + 1"
   ]
  },
  {
   "cell_type": "code",
   "execution_count": 5,
   "id": "59b5f0fe-5c5c-4277-bb09-ce18b69cfdae",
   "metadata": {},
   "outputs": [
    {
     "data": {
      "text/plain": [
       "['model.pkl']"
      ]
     },
     "execution_count": 5,
     "metadata": {},
     "output_type": "execute_result"
    }
   ],
   "source": [
    "# Fit the model\n",
    "model = LinearRegression().fit(X, y)\n",
    "\n",
    "# Save the model\n",
    "joblib.dump(model, 'model.pkl')"
   ]
  },
  {
   "cell_type": "code",
   "execution_count": null,
   "id": "d4472776-9b73-479c-8399-da59ecf4dce2",
   "metadata": {},
   "outputs": [],
   "source": []
  }
 ],
 "metadata": {
  "kernelspec": {
   "display_name": "Python 3 (ipykernel)",
   "language": "python",
   "name": "python3"
  },
  "language_info": {
   "codemirror_mode": {
    "name": "ipython",
    "version": 3
   },
   "file_extension": ".py",
   "mimetype": "text/x-python",
   "name": "python",
   "nbconvert_exporter": "python",
   "pygments_lexer": "ipython3",
   "version": "3.12.4"
  }
 },
 "nbformat": 4,
 "nbformat_minor": 5
}
